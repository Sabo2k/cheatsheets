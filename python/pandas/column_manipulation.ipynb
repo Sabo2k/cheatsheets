{
 "cells": [
  {
   "cell_type": "markdown",
   "id": "36e56a5e",
   "metadata": {},
   "source": [
    "# Hinzufügen/Löschen von Zeilen und Spalten\n",
    "\n",
    "Video zu diesem Thema: https://youtu.be/HQ6XO9eT-fc\n",
    "\n",
    "## <span style=\"color:#7030A0\">Unser Setup</span>"
   ]
  },
  {
   "cell_type": "code",
   "execution_count": 56,
   "id": "dbf4878d",
   "metadata": {},
   "outputs": [],
   "source": [
    "import pandas as pd\n",
    "\n",
    "# Beispieldaten vorbereiten\n",
    "\n",
    "people = {\n",
    "    'first': ['Gordon', 'Morgan', 'Naruto'],\n",
    "    'last':  ['Freeman', 'Freeman', 'Uzumaki'],\n",
    "    'email': ['gordonfreeman@valve.com', 'morganFreeman@email.com', 'narutoUzumaki@carlsen.com']\n",
    "}\n",
    "\n",
    "people_df = pd.DataFrame(people)"
   ]
  },
  {
   "cell_type": "code",
   "execution_count": 39,
   "id": "5685ad29",
   "metadata": {},
   "outputs": [
    {
     "data": {
      "text/html": [
       "<div>\n",
       "<style scoped>\n",
       "    .dataframe tbody tr th:only-of-type {\n",
       "        vertical-align: middle;\n",
       "    }\n",
       "\n",
       "    .dataframe tbody tr th {\n",
       "        vertical-align: top;\n",
       "    }\n",
       "\n",
       "    .dataframe thead th {\n",
       "        text-align: right;\n",
       "    }\n",
       "</style>\n",
       "<table border=\"1\" class=\"dataframe\">\n",
       "  <thead>\n",
       "    <tr style=\"text-align: right;\">\n",
       "      <th></th>\n",
       "      <th>first</th>\n",
       "      <th>last</th>\n",
       "      <th>email</th>\n",
       "    </tr>\n",
       "  </thead>\n",
       "  <tbody>\n",
       "    <tr>\n",
       "      <th>0</th>\n",
       "      <td>Gordon</td>\n",
       "      <td>Freeman</td>\n",
       "      <td>gordonfreeman@valve.com</td>\n",
       "    </tr>\n",
       "    <tr>\n",
       "      <th>1</th>\n",
       "      <td>Morgan</td>\n",
       "      <td>Freeman</td>\n",
       "      <td>morganFreeman@email.com</td>\n",
       "    </tr>\n",
       "    <tr>\n",
       "      <th>2</th>\n",
       "      <td>Naruto</td>\n",
       "      <td>Uzumaki</td>\n",
       "      <td>narutoUzumaki@carlsen.com</td>\n",
       "    </tr>\n",
       "  </tbody>\n",
       "</table>\n",
       "</div>"
      ],
      "text/plain": [
       "    first     last                      email\n",
       "0  Gordon  Freeman    gordonfreeman@valve.com\n",
       "1  Morgan  Freeman    morganFreeman@email.com\n",
       "2  Naruto  Uzumaki  narutoUzumaki@carlsen.com"
      ]
     },
     "execution_count": 39,
     "metadata": {},
     "output_type": "execute_result"
    }
   ],
   "source": [
    "people_df"
   ]
  },
  {
   "cell_type": "markdown",
   "id": "84f95b03",
   "metadata": {},
   "source": [
    "## <span style=\"color:#7030A0\">Spalten hinzufügen</span>"
   ]
  },
  {
   "cell_type": "code",
   "execution_count": 40,
   "id": "b29da5d2",
   "metadata": {},
   "outputs": [
    {
     "data": {
      "text/plain": [
       "0    Gordon Freeman\n",
       "1    Morgan Freeman\n",
       "2    Naruto Uzumaki\n",
       "dtype: object"
      ]
     },
     "execution_count": 40,
     "metadata": {},
     "output_type": "execute_result"
    }
   ],
   "source": [
    "people_df['first'] + ' ' + people_df['last'] # Änderung nicht permanent, dies ist ein Series-Object!"
   ]
  },
  {
   "cell_type": "code",
   "execution_count": 41,
   "id": "4671848e",
   "metadata": {},
   "outputs": [
    {
     "data": {
      "text/html": [
       "<div>\n",
       "<style scoped>\n",
       "    .dataframe tbody tr th:only-of-type {\n",
       "        vertical-align: middle;\n",
       "    }\n",
       "\n",
       "    .dataframe tbody tr th {\n",
       "        vertical-align: top;\n",
       "    }\n",
       "\n",
       "    .dataframe thead th {\n",
       "        text-align: right;\n",
       "    }\n",
       "</style>\n",
       "<table border=\"1\" class=\"dataframe\">\n",
       "  <thead>\n",
       "    <tr style=\"text-align: right;\">\n",
       "      <th></th>\n",
       "      <th>first</th>\n",
       "      <th>last</th>\n",
       "      <th>email</th>\n",
       "      <th>full_name</th>\n",
       "    </tr>\n",
       "  </thead>\n",
       "  <tbody>\n",
       "    <tr>\n",
       "      <th>0</th>\n",
       "      <td>Gordon</td>\n",
       "      <td>Freeman</td>\n",
       "      <td>gordonfreeman@valve.com</td>\n",
       "      <td>Gordon Freeman</td>\n",
       "    </tr>\n",
       "    <tr>\n",
       "      <th>1</th>\n",
       "      <td>Morgan</td>\n",
       "      <td>Freeman</td>\n",
       "      <td>morganFreeman@email.com</td>\n",
       "      <td>Morgan Freeman</td>\n",
       "    </tr>\n",
       "    <tr>\n",
       "      <th>2</th>\n",
       "      <td>Naruto</td>\n",
       "      <td>Uzumaki</td>\n",
       "      <td>narutoUzumaki@carlsen.com</td>\n",
       "      <td>Naruto Uzumaki</td>\n",
       "    </tr>\n",
       "  </tbody>\n",
       "</table>\n",
       "</div>"
      ],
      "text/plain": [
       "    first     last                      email       full_name\n",
       "0  Gordon  Freeman    gordonfreeman@valve.com  Gordon Freeman\n",
       "1  Morgan  Freeman    morganFreeman@email.com  Morgan Freeman\n",
       "2  Naruto  Uzumaki  narutoUzumaki@carlsen.com  Naruto Uzumaki"
      ]
     },
     "execution_count": 41,
     "metadata": {},
     "output_type": "execute_result"
    }
   ],
   "source": [
    "people_df['full_name'] = people_df['first'] + ' ' + people_df['last'] # Änderung permanent\n",
    "people_df"
   ]
  },
  {
   "cell_type": "markdown",
   "id": "cfbf0d9b",
   "metadata": {},
   "source": [
    "## <span style=\"color:#7030A0\">Spalten entfernen</span>"
   ]
  },
  {
   "cell_type": "code",
   "execution_count": 42,
   "id": "e1843438",
   "metadata": {},
   "outputs": [
    {
     "data": {
      "text/html": [
       "<div>\n",
       "<style scoped>\n",
       "    .dataframe tbody tr th:only-of-type {\n",
       "        vertical-align: middle;\n",
       "    }\n",
       "\n",
       "    .dataframe tbody tr th {\n",
       "        vertical-align: top;\n",
       "    }\n",
       "\n",
       "    .dataframe thead th {\n",
       "        text-align: right;\n",
       "    }\n",
       "</style>\n",
       "<table border=\"1\" class=\"dataframe\">\n",
       "  <thead>\n",
       "    <tr style=\"text-align: right;\">\n",
       "      <th></th>\n",
       "      <th>email</th>\n",
       "      <th>full_name</th>\n",
       "    </tr>\n",
       "  </thead>\n",
       "  <tbody>\n",
       "    <tr>\n",
       "      <th>0</th>\n",
       "      <td>gordonfreeman@valve.com</td>\n",
       "      <td>Gordon Freeman</td>\n",
       "    </tr>\n",
       "    <tr>\n",
       "      <th>1</th>\n",
       "      <td>morganFreeman@email.com</td>\n",
       "      <td>Morgan Freeman</td>\n",
       "    </tr>\n",
       "    <tr>\n",
       "      <th>2</th>\n",
       "      <td>narutoUzumaki@carlsen.com</td>\n",
       "      <td>Naruto Uzumaki</td>\n",
       "    </tr>\n",
       "  </tbody>\n",
       "</table>\n",
       "</div>"
      ],
      "text/plain": [
       "                       email       full_name\n",
       "0    gordonfreeman@valve.com  Gordon Freeman\n",
       "1    morganFreeman@email.com  Morgan Freeman\n",
       "2  narutoUzumaki@carlsen.com  Naruto Uzumaki"
      ]
     },
     "execution_count": 42,
     "metadata": {},
     "output_type": "execute_result"
    }
   ],
   "source": [
    "people_df.drop(columns=['first', 'last'], inplace=True)\n",
    "people_df"
   ]
  },
  {
   "cell_type": "markdown",
   "id": "70d94dd5",
   "metadata": {},
   "source": [
    "## <span style=\"color:#7030A0\">Spalten aus existierenden Spalten erzeugen</span>"
   ]
  },
  {
   "cell_type": "code",
   "execution_count": 43,
   "id": "c2cf218d",
   "metadata": {},
   "outputs": [
    {
     "data": {
      "text/html": [
       "<div>\n",
       "<style scoped>\n",
       "    .dataframe tbody tr th:only-of-type {\n",
       "        vertical-align: middle;\n",
       "    }\n",
       "\n",
       "    .dataframe tbody tr th {\n",
       "        vertical-align: top;\n",
       "    }\n",
       "\n",
       "    .dataframe thead th {\n",
       "        text-align: right;\n",
       "    }\n",
       "</style>\n",
       "<table border=\"1\" class=\"dataframe\">\n",
       "  <thead>\n",
       "    <tr style=\"text-align: right;\">\n",
       "      <th></th>\n",
       "      <th>0</th>\n",
       "      <th>1</th>\n",
       "    </tr>\n",
       "  </thead>\n",
       "  <tbody>\n",
       "    <tr>\n",
       "      <th>0</th>\n",
       "      <td>Gordon</td>\n",
       "      <td>Freeman</td>\n",
       "    </tr>\n",
       "    <tr>\n",
       "      <th>1</th>\n",
       "      <td>Morgan</td>\n",
       "      <td>Freeman</td>\n",
       "    </tr>\n",
       "    <tr>\n",
       "      <th>2</th>\n",
       "      <td>Naruto</td>\n",
       "      <td>Uzumaki</td>\n",
       "    </tr>\n",
       "  </tbody>\n",
       "</table>\n",
       "</div>"
      ],
      "text/plain": [
       "        0        1\n",
       "0  Gordon  Freeman\n",
       "1  Morgan  Freeman\n",
       "2  Naruto  Uzumaki"
      ]
     },
     "execution_count": 43,
     "metadata": {},
     "output_type": "execute_result"
    }
   ],
   "source": [
    "people_df['full_name'].str.split(' ', expand=True)"
   ]
  },
  {
   "cell_type": "code",
   "execution_count": 44,
   "id": "e415cc6c",
   "metadata": {},
   "outputs": [
    {
     "data": {
      "text/html": [
       "<div>\n",
       "<style scoped>\n",
       "    .dataframe tbody tr th:only-of-type {\n",
       "        vertical-align: middle;\n",
       "    }\n",
       "\n",
       "    .dataframe tbody tr th {\n",
       "        vertical-align: top;\n",
       "    }\n",
       "\n",
       "    .dataframe thead th {\n",
       "        text-align: right;\n",
       "    }\n",
       "</style>\n",
       "<table border=\"1\" class=\"dataframe\">\n",
       "  <thead>\n",
       "    <tr style=\"text-align: right;\">\n",
       "      <th></th>\n",
       "      <th>email</th>\n",
       "      <th>full_name</th>\n",
       "      <th>first</th>\n",
       "      <th>last</th>\n",
       "    </tr>\n",
       "  </thead>\n",
       "  <tbody>\n",
       "    <tr>\n",
       "      <th>0</th>\n",
       "      <td>gordonfreeman@valve.com</td>\n",
       "      <td>Gordon Freeman</td>\n",
       "      <td>Gordon</td>\n",
       "      <td>Freeman</td>\n",
       "    </tr>\n",
       "    <tr>\n",
       "      <th>1</th>\n",
       "      <td>morganFreeman@email.com</td>\n",
       "      <td>Morgan Freeman</td>\n",
       "      <td>Morgan</td>\n",
       "      <td>Freeman</td>\n",
       "    </tr>\n",
       "    <tr>\n",
       "      <th>2</th>\n",
       "      <td>narutoUzumaki@carlsen.com</td>\n",
       "      <td>Naruto Uzumaki</td>\n",
       "      <td>Naruto</td>\n",
       "      <td>Uzumaki</td>\n",
       "    </tr>\n",
       "  </tbody>\n",
       "</table>\n",
       "</div>"
      ],
      "text/plain": [
       "                       email       full_name   first     last\n",
       "0    gordonfreeman@valve.com  Gordon Freeman  Gordon  Freeman\n",
       "1    morganFreeman@email.com  Morgan Freeman  Morgan  Freeman\n",
       "2  narutoUzumaki@carlsen.com  Naruto Uzumaki  Naruto  Uzumaki"
      ]
     },
     "execution_count": 44,
     "metadata": {},
     "output_type": "execute_result"
    }
   ],
   "source": [
    "people_df[['first', 'last']] = people_df['full_name'].str.split(' ', expand=True)\n",
    "people_df"
   ]
  },
  {
   "cell_type": "markdown",
   "id": "6cb33b60",
   "metadata": {},
   "source": [
    "## <span style=\"color:#7030A0\">Zeilen hinzufügen"
   ]
  },
  {
   "cell_type": "code",
   "execution_count": 45,
   "id": "8b9ef0b5",
   "metadata": {},
   "outputs": [
    {
     "data": {
      "text/html": [
       "<div>\n",
       "<style scoped>\n",
       "    .dataframe tbody tr th:only-of-type {\n",
       "        vertical-align: middle;\n",
       "    }\n",
       "\n",
       "    .dataframe tbody tr th {\n",
       "        vertical-align: top;\n",
       "    }\n",
       "\n",
       "    .dataframe thead th {\n",
       "        text-align: right;\n",
       "    }\n",
       "</style>\n",
       "<table border=\"1\" class=\"dataframe\">\n",
       "  <thead>\n",
       "    <tr style=\"text-align: right;\">\n",
       "      <th></th>\n",
       "      <th>email</th>\n",
       "      <th>full_name</th>\n",
       "      <th>first</th>\n",
       "      <th>last</th>\n",
       "    </tr>\n",
       "  </thead>\n",
       "  <tbody>\n",
       "    <tr>\n",
       "      <th>0</th>\n",
       "      <td>gordonfreeman@valve.com</td>\n",
       "      <td>Gordon Freeman</td>\n",
       "      <td>Gordon</td>\n",
       "      <td>Freeman</td>\n",
       "    </tr>\n",
       "    <tr>\n",
       "      <th>1</th>\n",
       "      <td>morganFreeman@email.com</td>\n",
       "      <td>Morgan Freeman</td>\n",
       "      <td>Morgan</td>\n",
       "      <td>Freeman</td>\n",
       "    </tr>\n",
       "    <tr>\n",
       "      <th>2</th>\n",
       "      <td>narutoUzumaki@carlsen.com</td>\n",
       "      <td>Naruto Uzumaki</td>\n",
       "      <td>Naruto</td>\n",
       "      <td>Uzumaki</td>\n",
       "    </tr>\n",
       "    <tr>\n",
       "      <th>0</th>\n",
       "      <td>NaN</td>\n",
       "      <td>NaN</td>\n",
       "      <td>Tony</td>\n",
       "      <td>NaN</td>\n",
       "    </tr>\n",
       "  </tbody>\n",
       "</table>\n",
       "</div>"
      ],
      "text/plain": [
       "                       email       full_name   first     last\n",
       "0    gordonfreeman@valve.com  Gordon Freeman  Gordon  Freeman\n",
       "1    morganFreeman@email.com  Morgan Freeman  Morgan  Freeman\n",
       "2  narutoUzumaki@carlsen.com  Naruto Uzumaki  Naruto  Uzumaki\n",
       "0                        NaN             NaN    Tony      NaN"
      ]
     },
     "execution_count": 45,
     "metadata": {},
     "output_type": "execute_result"
    }
   ],
   "source": [
    "people_df = pd.concat([people_df, pd.DataFrame.from_records([{ 'first': 'Tony'}])])\n",
    "people_df"
   ]
  },
  {
   "cell_type": "code",
   "execution_count": 46,
   "id": "075a8e92",
   "metadata": {},
   "outputs": [
    {
     "data": {
      "text/html": [
       "<div>\n",
       "<style scoped>\n",
       "    .dataframe tbody tr th:only-of-type {\n",
       "        vertical-align: middle;\n",
       "    }\n",
       "\n",
       "    .dataframe tbody tr th {\n",
       "        vertical-align: top;\n",
       "    }\n",
       "\n",
       "    .dataframe thead th {\n",
       "        text-align: right;\n",
       "    }\n",
       "</style>\n",
       "<table border=\"1\" class=\"dataframe\">\n",
       "  <thead>\n",
       "    <tr style=\"text-align: right;\">\n",
       "      <th></th>\n",
       "      <th>first</th>\n",
       "      <th>last</th>\n",
       "      <th>email</th>\n",
       "    </tr>\n",
       "  </thead>\n",
       "  <tbody>\n",
       "    <tr>\n",
       "      <th>0</th>\n",
       "      <td>Steve</td>\n",
       "      <td>Jobs</td>\n",
       "      <td>stevejobs@apple.com</td>\n",
       "    </tr>\n",
       "    <tr>\n",
       "      <th>1</th>\n",
       "      <td>Bill</td>\n",
       "      <td>Gates</td>\n",
       "      <td>billgates@microsoft.com</td>\n",
       "    </tr>\n",
       "  </tbody>\n",
       "</table>\n",
       "</div>"
      ],
      "text/plain": [
       "   first   last                    email\n",
       "0  Steve   Jobs      stevejobs@apple.com\n",
       "1   Bill  Gates  billgates@microsoft.com"
      ]
     },
     "execution_count": 46,
     "metadata": {},
     "output_type": "execute_result"
    }
   ],
   "source": [
    "people = {\n",
    "    'first': ['Steve', 'Bill'],\n",
    "    'last':  ['Jobs', 'Gates'],\n",
    "    'email': ['steveJobs@apple.com', 'billGates@microsoft.com']\n",
    "}\n",
    "\n",
    "people_df2 = pd.DataFrame(people)\n",
    "people_df2"
   ]
  },
  {
   "cell_type": "code",
   "execution_count": 47,
   "id": "f95a7ed0",
   "metadata": {},
   "outputs": [
    {
     "data": {
      "text/html": [
       "<div>\n",
       "<style scoped>\n",
       "    .dataframe tbody tr th:only-of-type {\n",
       "        vertical-align: middle;\n",
       "    }\n",
       "\n",
       "    .dataframe tbody tr th {\n",
       "        vertical-align: top;\n",
       "    }\n",
       "\n",
       "    .dataframe thead th {\n",
       "        text-align: right;\n",
       "    }\n",
       "</style>\n",
       "<table border=\"1\" class=\"dataframe\">\n",
       "  <thead>\n",
       "    <tr style=\"text-align: right;\">\n",
       "      <th></th>\n",
       "      <th>email</th>\n",
       "      <th>full_name</th>\n",
       "      <th>first</th>\n",
       "      <th>last</th>\n",
       "    </tr>\n",
       "  </thead>\n",
       "  <tbody>\n",
       "    <tr>\n",
       "      <th>0</th>\n",
       "      <td>gordonfreeman@valve.com</td>\n",
       "      <td>Gordon Freeman</td>\n",
       "      <td>Gordon</td>\n",
       "      <td>Freeman</td>\n",
       "    </tr>\n",
       "    <tr>\n",
       "      <th>1</th>\n",
       "      <td>morganFreeman@email.com</td>\n",
       "      <td>Morgan Freeman</td>\n",
       "      <td>Morgan</td>\n",
       "      <td>Freeman</td>\n",
       "    </tr>\n",
       "    <tr>\n",
       "      <th>2</th>\n",
       "      <td>narutoUzumaki@carlsen.com</td>\n",
       "      <td>Naruto Uzumaki</td>\n",
       "      <td>Naruto</td>\n",
       "      <td>Uzumaki</td>\n",
       "    </tr>\n",
       "    <tr>\n",
       "      <th>3</th>\n",
       "      <td>NaN</td>\n",
       "      <td>NaN</td>\n",
       "      <td>Tony</td>\n",
       "      <td>NaN</td>\n",
       "    </tr>\n",
       "    <tr>\n",
       "      <th>4</th>\n",
       "      <td>stevejobs@apple.com</td>\n",
       "      <td>NaN</td>\n",
       "      <td>Steve</td>\n",
       "      <td>Jobs</td>\n",
       "    </tr>\n",
       "    <tr>\n",
       "      <th>5</th>\n",
       "      <td>billgates@microsoft.com</td>\n",
       "      <td>NaN</td>\n",
       "      <td>Bill</td>\n",
       "      <td>Gates</td>\n",
       "    </tr>\n",
       "  </tbody>\n",
       "</table>\n",
       "</div>"
      ],
      "text/plain": [
       "                       email       full_name   first     last\n",
       "0    gordonfreeman@valve.com  Gordon Freeman  Gordon  Freeman\n",
       "1    morganFreeman@email.com  Morgan Freeman  Morgan  Freeman\n",
       "2  narutoUzumaki@carlsen.com  Naruto Uzumaki  Naruto  Uzumaki\n",
       "3                        NaN             NaN    Tony      NaN\n",
       "4        stevejobs@apple.com             NaN   Steve     Jobs\n",
       "5    billgates@microsoft.com             NaN    Bill    Gates"
      ]
     },
     "execution_count": 47,
     "metadata": {},
     "output_type": "execute_result"
    }
   ],
   "source": [
    "people_df = pd.concat([people_df, people_df2], ignore_index=True)\n",
    "people_df"
   ]
  },
  {
   "cell_type": "markdown",
   "id": "a4b87b55",
   "metadata": {},
   "source": [
    "## <span style=\"color:#7030A0\">Zeilen entfernen</span>"
   ]
  },
  {
   "cell_type": "code",
   "execution_count": 53,
   "id": "931db136",
   "metadata": {
    "scrolled": true
   },
   "outputs": [
    {
     "data": {
      "text/html": [
       "<div>\n",
       "<style scoped>\n",
       "    .dataframe tbody tr th:only-of-type {\n",
       "        vertical-align: middle;\n",
       "    }\n",
       "\n",
       "    .dataframe tbody tr th {\n",
       "        vertical-align: top;\n",
       "    }\n",
       "\n",
       "    .dataframe thead th {\n",
       "        text-align: right;\n",
       "    }\n",
       "</style>\n",
       "<table border=\"1\" class=\"dataframe\">\n",
       "  <thead>\n",
       "    <tr style=\"text-align: right;\">\n",
       "      <th></th>\n",
       "      <th>email</th>\n",
       "      <th>full_name</th>\n",
       "      <th>first</th>\n",
       "      <th>last</th>\n",
       "    </tr>\n",
       "  </thead>\n",
       "  <tbody>\n",
       "    <tr>\n",
       "      <th>0</th>\n",
       "      <td>gordonfreeman@valve.com</td>\n",
       "      <td>Gordon Freeman</td>\n",
       "      <td>Gordon</td>\n",
       "      <td>Freeman</td>\n",
       "    </tr>\n",
       "    <tr>\n",
       "      <th>1</th>\n",
       "      <td>morganFreeman@email.com</td>\n",
       "      <td>Morgan Freeman</td>\n",
       "      <td>Morgan</td>\n",
       "      <td>Freeman</td>\n",
       "    </tr>\n",
       "    <tr>\n",
       "      <th>2</th>\n",
       "      <td>narutoUzumaki@carlsen.com</td>\n",
       "      <td>Naruto Uzumaki</td>\n",
       "      <td>Naruto</td>\n",
       "      <td>Uzumaki</td>\n",
       "    </tr>\n",
       "    <tr>\n",
       "      <th>3</th>\n",
       "      <td>NaN</td>\n",
       "      <td>NaN</td>\n",
       "      <td>Tony</td>\n",
       "      <td>NaN</td>\n",
       "    </tr>\n",
       "    <tr>\n",
       "      <th>5</th>\n",
       "      <td>billgates@microsoft.com</td>\n",
       "      <td>NaN</td>\n",
       "      <td>Bill</td>\n",
       "      <td>Gates</td>\n",
       "    </tr>\n",
       "  </tbody>\n",
       "</table>\n",
       "</div>"
      ],
      "text/plain": [
       "                       email       full_name   first     last\n",
       "0    gordonfreeman@valve.com  Gordon Freeman  Gordon  Freeman\n",
       "1    morganFreeman@email.com  Morgan Freeman  Morgan  Freeman\n",
       "2  narutoUzumaki@carlsen.com  Naruto Uzumaki  Naruto  Uzumaki\n",
       "3                        NaN             NaN    Tony      NaN\n",
       "5    billgates@microsoft.com             NaN    Bill    Gates"
      ]
     },
     "execution_count": 53,
     "metadata": {},
     "output_type": "execute_result"
    }
   ],
   "source": [
    "people_df.drop(index=4) # Steve Jobs entfernen (nicht permanent, nutze inplace=True)"
   ]
  },
  {
   "cell_type": "code",
   "execution_count": 55,
   "id": "69d87668",
   "metadata": {},
   "outputs": [
    {
     "data": {
      "text/html": [
       "<div>\n",
       "<style scoped>\n",
       "    .dataframe tbody tr th:only-of-type {\n",
       "        vertical-align: middle;\n",
       "    }\n",
       "\n",
       "    .dataframe tbody tr th {\n",
       "        vertical-align: top;\n",
       "    }\n",
       "\n",
       "    .dataframe thead th {\n",
       "        text-align: right;\n",
       "    }\n",
       "</style>\n",
       "<table border=\"1\" class=\"dataframe\">\n",
       "  <thead>\n",
       "    <tr style=\"text-align: right;\">\n",
       "      <th></th>\n",
       "      <th>email</th>\n",
       "      <th>full_name</th>\n",
       "      <th>first</th>\n",
       "      <th>last</th>\n",
       "    </tr>\n",
       "  </thead>\n",
       "  <tbody>\n",
       "    <tr>\n",
       "      <th>2</th>\n",
       "      <td>narutoUzumaki@carlsen.com</td>\n",
       "      <td>Naruto Uzumaki</td>\n",
       "      <td>Naruto</td>\n",
       "      <td>Uzumaki</td>\n",
       "    </tr>\n",
       "    <tr>\n",
       "      <th>3</th>\n",
       "      <td>NaN</td>\n",
       "      <td>NaN</td>\n",
       "      <td>Tony</td>\n",
       "      <td>NaN</td>\n",
       "    </tr>\n",
       "    <tr>\n",
       "      <th>4</th>\n",
       "      <td>stevejobs@apple.com</td>\n",
       "      <td>NaN</td>\n",
       "      <td>Steve</td>\n",
       "      <td>Jobs</td>\n",
       "    </tr>\n",
       "    <tr>\n",
       "      <th>5</th>\n",
       "      <td>billgates@microsoft.com</td>\n",
       "      <td>NaN</td>\n",
       "      <td>Bill</td>\n",
       "      <td>Gates</td>\n",
       "    </tr>\n",
       "  </tbody>\n",
       "</table>\n",
       "</div>"
      ],
      "text/plain": [
       "                       email       full_name   first     last\n",
       "2  narutoUzumaki@carlsen.com  Naruto Uzumaki  Naruto  Uzumaki\n",
       "3                        NaN             NaN    Tony      NaN\n",
       "4        stevejobs@apple.com             NaN   Steve     Jobs\n",
       "5    billgates@microsoft.com             NaN    Bill    Gates"
      ]
     },
     "execution_count": 55,
     "metadata": {},
     "output_type": "execute_result"
    }
   ],
   "source": [
    "filt = people_df['last'] == 'Freeman'\n",
    "people_df.drop(index=people_df[filt].index) # Alle Freemans löschen"
   ]
  }
 ],
 "metadata": {
  "kernelspec": {
   "display_name": "Python 3 (ipykernel)",
   "language": "python",
   "name": "python3"
  },
  "language_info": {
   "codemirror_mode": {
    "name": "ipython",
    "version": 3
   },
   "file_extension": ".py",
   "mimetype": "text/x-python",
   "name": "python",
   "nbconvert_exporter": "python",
   "pygments_lexer": "ipython3",
   "version": "3.8.10"
  }
 },
 "nbformat": 4,
 "nbformat_minor": 5
}
