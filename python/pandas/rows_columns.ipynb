{
 "cells": [
  {
   "cell_type": "markdown",
   "id": "78539b8f",
   "metadata": {},
   "source": [
    "# Updating von Rows und Colums\n",
    "\n",
    "Video zu diesem Thema: https://youtu.be/DCDe29sIKcE\n",
    "\n",
    "## <span style=\"color:#7030A0\">Unser Setup</span>"
   ]
  },
  {
   "cell_type": "code",
   "execution_count": 2,
   "id": "6b97ae29",
   "metadata": {},
   "outputs": [],
   "source": [
    "import pandas as pd\n",
    "\n",
    "# Beispieldaten vorbereiten\n",
    "\n",
    "people = {\n",
    "    'first': ['Gordon', 'Morgan', 'Naruto'],\n",
    "    'last': ['Freeman', 'Freeman', 'Uzumaki'],\n",
    "    'email': ['gordonfreeman@valve.com', 'morganFreeman@email.com', 'narutoUzumaki@carlsen.com']\n",
    "}\n",
    "\n",
    "people_df = pd.DataFrame(people)\n",
    "\n",
    "# Stack Overflow Survey-Daten vorbereiten\n",
    "\n",
    "survey_df = pd.read_csv('../data/survey_results_public.csv', index_col='Respondent')\n",
    "schema_df = pd.read_csv('../data/survey_results_schema.csv', index_col='Column')\n",
    "pd.set_option('display.max_columns', 85) # konkatenierte Informationen mit vollständigen Spalten anzeigen\n",
    "pd.set_option('display.max_rows', 85)    # konkatenierte Informationen mit vollständigen Zeilen anzeigen"
   ]
  },
  {
   "cell_type": "code",
   "execution_count": 3,
   "id": "c9463d42",
   "metadata": {},
   "outputs": [
    {
     "data": {
      "text/html": [
       "<div>\n",
       "<style scoped>\n",
       "    .dataframe tbody tr th:only-of-type {\n",
       "        vertical-align: middle;\n",
       "    }\n",
       "\n",
       "    .dataframe tbody tr th {\n",
       "        vertical-align: top;\n",
       "    }\n",
       "\n",
       "    .dataframe thead th {\n",
       "        text-align: right;\n",
       "    }\n",
       "</style>\n",
       "<table border=\"1\" class=\"dataframe\">\n",
       "  <thead>\n",
       "    <tr style=\"text-align: right;\">\n",
       "      <th></th>\n",
       "      <th>first</th>\n",
       "      <th>last</th>\n",
       "      <th>email</th>\n",
       "    </tr>\n",
       "  </thead>\n",
       "  <tbody>\n",
       "    <tr>\n",
       "      <th>0</th>\n",
       "      <td>Gordon</td>\n",
       "      <td>Freeman</td>\n",
       "      <td>gordonfreeman@valve.com</td>\n",
       "    </tr>\n",
       "    <tr>\n",
       "      <th>1</th>\n",
       "      <td>Morgan</td>\n",
       "      <td>Freeman</td>\n",
       "      <td>morganFreeman@email.com</td>\n",
       "    </tr>\n",
       "    <tr>\n",
       "      <th>2</th>\n",
       "      <td>Naruto</td>\n",
       "      <td>Uzumaki</td>\n",
       "      <td>narutoUzumaki@carlsen.com</td>\n",
       "    </tr>\n",
       "  </tbody>\n",
       "</table>\n",
       "</div>"
      ],
      "text/plain": [
       "    first     last                      email\n",
       "0  Gordon  Freeman    gordonfreeman@valve.com\n",
       "1  Morgan  Freeman    morganFreeman@email.com\n",
       "2  Naruto  Uzumaki  narutoUzumaki@carlsen.com"
      ]
     },
     "execution_count": 3,
     "metadata": {},
     "output_type": "execute_result"
    }
   ],
   "source": [
    "people_df"
   ]
  },
  {
   "cell_type": "markdown",
   "id": "aa54f45d",
   "metadata": {},
   "source": [
    "## <span style=\"color:#7030A0\">Spaltennamen verändern</span>"
   ]
  },
  {
   "cell_type": "code",
   "execution_count": 4,
   "id": "5d98f3d3",
   "metadata": {},
   "outputs": [
    {
     "data": {
      "text/plain": [
       "Index(['first', 'last', 'email'], dtype='object')"
      ]
     },
     "execution_count": 4,
     "metadata": {},
     "output_type": "execute_result"
    }
   ],
   "source": [
    "people_df.columns"
   ]
  },
  {
   "cell_type": "markdown",
   "id": "ef2bdff1",
   "metadata": {},
   "source": [
    "Wir können unsere Spalten auch umbenennen:"
   ]
  },
  {
   "cell_type": "code",
   "execution_count": 5,
   "id": "dadae08d",
   "metadata": {},
   "outputs": [
    {
     "data": {
      "text/plain": [
       "Index(['first_name', 'last_name', 'email'], dtype='object')"
      ]
     },
     "execution_count": 5,
     "metadata": {},
     "output_type": "execute_result"
    }
   ],
   "source": [
    "people_df.columns = ['first_name','last_name', 'email']\n",
    "people_df.columns"
   ]
  },
  {
   "cell_type": "markdown",
   "id": "f5f8eadc",
   "metadata": {},
   "source": [
    "Wir können die Spaltennamen auch mit einer for-Schleife manipulieren:"
   ]
  },
  {
   "cell_type": "code",
   "execution_count": 6,
   "id": "61f0ef55",
   "metadata": {},
   "outputs": [
    {
     "data": {
      "text/plain": [
       "Index(['first_name', 'last_name', 'email'], dtype='object')"
      ]
     },
     "execution_count": 6,
     "metadata": {},
     "output_type": "execute_result"
    }
   ],
   "source": [
    "people_df.columns = [x.lower() for x in people_df.columns]\n",
    "people_df.columns"
   ]
  },
  {
   "cell_type": "markdown",
   "id": "6f95be09",
   "metadata": {},
   "source": [
    "Falls wir Leerzeichen durch \"_\" ersetzen möchten:"
   ]
  },
  {
   "cell_type": "code",
   "execution_count": 7,
   "id": "efae845a",
   "metadata": {},
   "outputs": [],
   "source": [
    "people_df.columns = people_df.columns.str.replace(' ', '_')"
   ]
  },
  {
   "cell_type": "markdown",
   "id": "7c3363a0",
   "metadata": {},
   "source": [
    "Wir können auch nur bestimmte Spalten umbenennen, indem wir ein dictionary verwenden:"
   ]
  },
  {
   "cell_type": "code",
   "execution_count": 8,
   "id": "07af0bf0",
   "metadata": {},
   "outputs": [
    {
     "data": {
      "text/html": [
       "<div>\n",
       "<style scoped>\n",
       "    .dataframe tbody tr th:only-of-type {\n",
       "        vertical-align: middle;\n",
       "    }\n",
       "\n",
       "    .dataframe tbody tr th {\n",
       "        vertical-align: top;\n",
       "    }\n",
       "\n",
       "    .dataframe thead th {\n",
       "        text-align: right;\n",
       "    }\n",
       "</style>\n",
       "<table border=\"1\" class=\"dataframe\">\n",
       "  <thead>\n",
       "    <tr style=\"text-align: right;\">\n",
       "      <th></th>\n",
       "      <th>first</th>\n",
       "      <th>last</th>\n",
       "      <th>email</th>\n",
       "    </tr>\n",
       "  </thead>\n",
       "  <tbody>\n",
       "    <tr>\n",
       "      <th>0</th>\n",
       "      <td>Gordon</td>\n",
       "      <td>Freeman</td>\n",
       "      <td>gordonfreeman@valve.com</td>\n",
       "    </tr>\n",
       "    <tr>\n",
       "      <th>1</th>\n",
       "      <td>Morgan</td>\n",
       "      <td>Freeman</td>\n",
       "      <td>morganFreeman@email.com</td>\n",
       "    </tr>\n",
       "    <tr>\n",
       "      <th>2</th>\n",
       "      <td>Naruto</td>\n",
       "      <td>Uzumaki</td>\n",
       "      <td>narutoUzumaki@carlsen.com</td>\n",
       "    </tr>\n",
       "  </tbody>\n",
       "</table>\n",
       "</div>"
      ],
      "text/plain": [
       "    first     last                      email\n",
       "0  Gordon  Freeman    gordonfreeman@valve.com\n",
       "1  Morgan  Freeman    morganFreeman@email.com\n",
       "2  Naruto  Uzumaki  narutoUzumaki@carlsen.com"
      ]
     },
     "execution_count": 8,
     "metadata": {},
     "output_type": "execute_result"
    }
   ],
   "source": [
    "people_df.rename(columns={'first_name': 'first', 'last_name': 'last'}, inplace=True)\n",
    "people_df"
   ]
  },
  {
   "cell_type": "markdown",
   "id": "80049887",
   "metadata": {},
   "source": [
    "## <span style=\"color:#7030A0\">Zeilen manipulieren</span>"
   ]
  },
  {
   "cell_type": "markdown",
   "id": "93047db1",
   "metadata": {},
   "source": [
    "Wir können alle Werte in einer Zeile neu zuweisen:"
   ]
  },
  {
   "cell_type": "code",
   "execution_count": 9,
   "id": "37e73bf3",
   "metadata": {},
   "outputs": [
    {
     "data": {
      "text/html": [
       "<div>\n",
       "<style scoped>\n",
       "    .dataframe tbody tr th:only-of-type {\n",
       "        vertical-align: middle;\n",
       "    }\n",
       "\n",
       "    .dataframe tbody tr th {\n",
       "        vertical-align: top;\n",
       "    }\n",
       "\n",
       "    .dataframe thead th {\n",
       "        text-align: right;\n",
       "    }\n",
       "</style>\n",
       "<table border=\"1\" class=\"dataframe\">\n",
       "  <thead>\n",
       "    <tr style=\"text-align: right;\">\n",
       "      <th></th>\n",
       "      <th>first</th>\n",
       "      <th>last</th>\n",
       "      <th>email</th>\n",
       "    </tr>\n",
       "  </thead>\n",
       "  <tbody>\n",
       "    <tr>\n",
       "      <th>0</th>\n",
       "      <td>Gordon</td>\n",
       "      <td>Freeman</td>\n",
       "      <td>gordonfreeman@valve.com</td>\n",
       "    </tr>\n",
       "    <tr>\n",
       "      <th>1</th>\n",
       "      <td>Morgan</td>\n",
       "      <td>Smith</td>\n",
       "      <td>morganSmith@email.com</td>\n",
       "    </tr>\n",
       "    <tr>\n",
       "      <th>2</th>\n",
       "      <td>Naruto</td>\n",
       "      <td>Uzumaki</td>\n",
       "      <td>narutoUzumaki@carlsen.com</td>\n",
       "    </tr>\n",
       "  </tbody>\n",
       "</table>\n",
       "</div>"
      ],
      "text/plain": [
       "    first     last                      email\n",
       "0  Gordon  Freeman    gordonfreeman@valve.com\n",
       "1  Morgan    Smith      morganSmith@email.com\n",
       "2  Naruto  Uzumaki  narutoUzumaki@carlsen.com"
      ]
     },
     "execution_count": 9,
     "metadata": {},
     "output_type": "execute_result"
    }
   ],
   "source": [
    "people_df.loc[1] = ['Morgan', 'Smith', 'morganSmith@email.com']\n",
    "people_df"
   ]
  },
  {
   "cell_type": "markdown",
   "id": "3aba5017",
   "metadata": {},
   "source": [
    "Wir können nur bestimmte Werte in einer Zeile neu zuweisen:"
   ]
  },
  {
   "cell_type": "code",
   "execution_count": 10,
   "id": "eb75c2d8",
   "metadata": {
    "scrolled": false
   },
   "outputs": [
    {
     "data": {
      "text/html": [
       "<div>\n",
       "<style scoped>\n",
       "    .dataframe tbody tr th:only-of-type {\n",
       "        vertical-align: middle;\n",
       "    }\n",
       "\n",
       "    .dataframe tbody tr th {\n",
       "        vertical-align: top;\n",
       "    }\n",
       "\n",
       "    .dataframe thead th {\n",
       "        text-align: right;\n",
       "    }\n",
       "</style>\n",
       "<table border=\"1\" class=\"dataframe\">\n",
       "  <thead>\n",
       "    <tr style=\"text-align: right;\">\n",
       "      <th></th>\n",
       "      <th>first</th>\n",
       "      <th>last</th>\n",
       "      <th>email</th>\n",
       "    </tr>\n",
       "  </thead>\n",
       "  <tbody>\n",
       "    <tr>\n",
       "      <th>0</th>\n",
       "      <td>Gordon</td>\n",
       "      <td>Freeman</td>\n",
       "      <td>gordonfreeman@valve.com</td>\n",
       "    </tr>\n",
       "    <tr>\n",
       "      <th>1</th>\n",
       "      <td>Morgan</td>\n",
       "      <td>Doe</td>\n",
       "      <td>morganDoe@email.com</td>\n",
       "    </tr>\n",
       "    <tr>\n",
       "      <th>2</th>\n",
       "      <td>Naruto</td>\n",
       "      <td>Uzumaki</td>\n",
       "      <td>narutoUzumaki@carlsen.com</td>\n",
       "    </tr>\n",
       "  </tbody>\n",
       "</table>\n",
       "</div>"
      ],
      "text/plain": [
       "    first     last                      email\n",
       "0  Gordon  Freeman    gordonfreeman@valve.com\n",
       "1  Morgan      Doe        morganDoe@email.com\n",
       "2  Naruto  Uzumaki  narutoUzumaki@carlsen.com"
      ]
     },
     "execution_count": 10,
     "metadata": {},
     "output_type": "execute_result"
    }
   ],
   "source": [
    "people_df.loc[1, ['last', 'email']] = ['Doe', 'morganDoe@email.com']\n",
    "people_df"
   ]
  },
  {
   "cell_type": "markdown",
   "id": "9899c126",
   "metadata": {},
   "source": [
    "Wir können einen bestimmten Wert in einer Zeile neu zuweisen:"
   ]
  },
  {
   "cell_type": "code",
   "execution_count": 11,
   "id": "12314b1f",
   "metadata": {},
   "outputs": [
    {
     "data": {
      "text/html": [
       "<div>\n",
       "<style scoped>\n",
       "    .dataframe tbody tr th:only-of-type {\n",
       "        vertical-align: middle;\n",
       "    }\n",
       "\n",
       "    .dataframe tbody tr th {\n",
       "        vertical-align: top;\n",
       "    }\n",
       "\n",
       "    .dataframe thead th {\n",
       "        text-align: right;\n",
       "    }\n",
       "</style>\n",
       "<table border=\"1\" class=\"dataframe\">\n",
       "  <thead>\n",
       "    <tr style=\"text-align: right;\">\n",
       "      <th></th>\n",
       "      <th>first</th>\n",
       "      <th>last</th>\n",
       "      <th>email</th>\n",
       "    </tr>\n",
       "  </thead>\n",
       "  <tbody>\n",
       "    <tr>\n",
       "      <th>0</th>\n",
       "      <td>Gordon</td>\n",
       "      <td>Freeman</td>\n",
       "      <td>gordonfreeman@valve.com</td>\n",
       "    </tr>\n",
       "    <tr>\n",
       "      <th>1</th>\n",
       "      <td>Morgan</td>\n",
       "      <td>Smith</td>\n",
       "      <td>morganDoe@email.com</td>\n",
       "    </tr>\n",
       "    <tr>\n",
       "      <th>2</th>\n",
       "      <td>Naruto</td>\n",
       "      <td>Uzumaki</td>\n",
       "      <td>narutoUzumaki@carlsen.com</td>\n",
       "    </tr>\n",
       "  </tbody>\n",
       "</table>\n",
       "</div>"
      ],
      "text/plain": [
       "    first     last                      email\n",
       "0  Gordon  Freeman    gordonfreeman@valve.com\n",
       "1  Morgan    Smith        morganDoe@email.com\n",
       "2  Naruto  Uzumaki  narutoUzumaki@carlsen.com"
      ]
     },
     "execution_count": 11,
     "metadata": {},
     "output_type": "execute_result"
    }
   ],
   "source": [
    "people_df.loc[1, 'last'] = 'Smith'\n",
    "people_df"
   ]
  },
  {
   "cell_type": "markdown",
   "id": "3b471856",
   "metadata": {},
   "source": [
    "### <span style=\"color:#4472C4\">Beispiel mit Filter</span>"
   ]
  },
  {
   "cell_type": "code",
   "execution_count": 12,
   "id": "c3eae024",
   "metadata": {
    "scrolled": true
   },
   "outputs": [
    {
     "data": {
      "text/html": [
       "<div>\n",
       "<style scoped>\n",
       "    .dataframe tbody tr th:only-of-type {\n",
       "        vertical-align: middle;\n",
       "    }\n",
       "\n",
       "    .dataframe tbody tr th {\n",
       "        vertical-align: top;\n",
       "    }\n",
       "\n",
       "    .dataframe thead th {\n",
       "        text-align: right;\n",
       "    }\n",
       "</style>\n",
       "<table border=\"1\" class=\"dataframe\">\n",
       "  <thead>\n",
       "    <tr style=\"text-align: right;\">\n",
       "      <th></th>\n",
       "      <th>first</th>\n",
       "      <th>last</th>\n",
       "      <th>email</th>\n",
       "    </tr>\n",
       "  </thead>\n",
       "  <tbody>\n",
       "    <tr>\n",
       "      <th>0</th>\n",
       "      <td>Gordon</td>\n",
       "      <td>Freeman</td>\n",
       "      <td>gordonfreeman@valve.com</td>\n",
       "    </tr>\n",
       "    <tr>\n",
       "      <th>1</th>\n",
       "      <td>Morgan</td>\n",
       "      <td>Doe</td>\n",
       "      <td>morganDoe@email.com</td>\n",
       "    </tr>\n",
       "    <tr>\n",
       "      <th>2</th>\n",
       "      <td>Naruto</td>\n",
       "      <td>Uzumaki</td>\n",
       "      <td>narutoUzumaki@carlsen.com</td>\n",
       "    </tr>\n",
       "  </tbody>\n",
       "</table>\n",
       "</div>"
      ],
      "text/plain": [
       "    first     last                      email\n",
       "0  Gordon  Freeman    gordonfreeman@valve.com\n",
       "1  Morgan      Doe        morganDoe@email.com\n",
       "2  Naruto  Uzumaki  narutoUzumaki@carlsen.com"
      ]
     },
     "execution_count": 12,
     "metadata": {},
     "output_type": "execute_result"
    }
   ],
   "source": [
    "filt = (people_df['email'] == 'morganDoe@email.com')\n",
    "people_df.loc[filt, 'last'] = 'Doe'\n",
    "people_df"
   ]
  },
  {
   "cell_type": "code",
   "execution_count": 13,
   "id": "7d240ba2",
   "metadata": {},
   "outputs": [
    {
     "data": {
      "text/html": [
       "<div>\n",
       "<style scoped>\n",
       "    .dataframe tbody tr th:only-of-type {\n",
       "        vertical-align: middle;\n",
       "    }\n",
       "\n",
       "    .dataframe tbody tr th {\n",
       "        vertical-align: top;\n",
       "    }\n",
       "\n",
       "    .dataframe thead th {\n",
       "        text-align: right;\n",
       "    }\n",
       "</style>\n",
       "<table border=\"1\" class=\"dataframe\">\n",
       "  <thead>\n",
       "    <tr style=\"text-align: right;\">\n",
       "      <th></th>\n",
       "      <th>first</th>\n",
       "      <th>last</th>\n",
       "      <th>email</th>\n",
       "    </tr>\n",
       "  </thead>\n",
       "  <tbody>\n",
       "    <tr>\n",
       "      <th>0</th>\n",
       "      <td>Gordon</td>\n",
       "      <td>Freeman</td>\n",
       "      <td>gordonfreeman@valve.com</td>\n",
       "    </tr>\n",
       "    <tr>\n",
       "      <th>1</th>\n",
       "      <td>Morgan</td>\n",
       "      <td>Doe</td>\n",
       "      <td>morgandoe@email.com</td>\n",
       "    </tr>\n",
       "    <tr>\n",
       "      <th>2</th>\n",
       "      <td>Naruto</td>\n",
       "      <td>Uzumaki</td>\n",
       "      <td>narutouzumaki@carlsen.com</td>\n",
       "    </tr>\n",
       "  </tbody>\n",
       "</table>\n",
       "</div>"
      ],
      "text/plain": [
       "    first     last                      email\n",
       "0  Gordon  Freeman    gordonfreeman@valve.com\n",
       "1  Morgan      Doe        morgandoe@email.com\n",
       "2  Naruto  Uzumaki  narutouzumaki@carlsen.com"
      ]
     },
     "execution_count": 13,
     "metadata": {},
     "output_type": "execute_result"
    }
   ],
   "source": [
    "people_df['email'] = people_df['email'].str.lower()\n",
    "people_df"
   ]
  },
  {
   "cell_type": "markdown",
   "id": "c2e6a56e",
   "metadata": {},
   "source": [
    "## <span style=\"color:#7030A0\">apply</span>"
   ]
  },
  {
   "cell_type": "markdown",
   "id": "af84e67b",
   "metadata": {},
   "source": [
    "Die ```apply```-Methode wird dafür genutzt, um eine Funktion auf Werte einer Zeile anzuwenden. \n",
    "Diese kann entweder auf ein Dataframe oder eine Series angewendet werden.\n",
    "\n",
    "### <span style=\"color:#4472C4\">apply auf eine Series</span>"
   ]
  },
  {
   "cell_type": "code",
   "execution_count": 14,
   "id": "6c21b4fc",
   "metadata": {},
   "outputs": [
    {
     "data": {
      "text/plain": [
       "0      gordonfreeman@valve.com\n",
       "1          morgandoe@email.com\n",
       "2    narutouzumaki@carlsen.com\n",
       "Name: email, dtype: object"
      ]
     },
     "execution_count": 14,
     "metadata": {},
     "output_type": "execute_result"
    }
   ],
   "source": [
    "people_df['email'] # liefert eine Series zurück"
   ]
  },
  {
   "cell_type": "code",
   "execution_count": 15,
   "id": "938ad0f4",
   "metadata": {},
   "outputs": [
    {
     "data": {
      "text/plain": [
       "0    23\n",
       "1    19\n",
       "2    25\n",
       "Name: email, dtype: int64"
      ]
     },
     "execution_count": 15,
     "metadata": {},
     "output_type": "execute_result"
    }
   ],
   "source": [
    "people_df['email'].apply(len) # Zeige die String-Länge der Spalte \"email\" an"
   ]
  },
  {
   "cell_type": "markdown",
   "id": "fc039a0d",
   "metadata": {},
   "source": [
    "Wir können auch eigene Funktionen definieren und auf unser Dataframe anwenden:"
   ]
  },
  {
   "cell_type": "code",
   "execution_count": 16,
   "id": "4609964b",
   "metadata": {},
   "outputs": [],
   "source": [
    "def update_email(email):\n",
    "    return email.upper()"
   ]
  },
  {
   "cell_type": "code",
   "execution_count": 17,
   "id": "38cd45c6",
   "metadata": {
    "scrolled": true
   },
   "outputs": [
    {
     "data": {
      "text/plain": [
       "0      GORDONFREEMAN@VALVE.COM\n",
       "1          MORGANDOE@EMAIL.COM\n",
       "2    NARUTOUZUMAKI@CARLSEN.COM\n",
       "Name: email, dtype: object"
      ]
     },
     "execution_count": 17,
     "metadata": {},
     "output_type": "execute_result"
    }
   ],
   "source": [
    "people_df['email'].apply(update_email) # ACHTUNG: HIER SIND DIE ÄNDERUNGEN NICHT PERMANENT!"
   ]
  },
  {
   "cell_type": "code",
   "execution_count": 18,
   "id": "6365d7bd",
   "metadata": {
    "scrolled": true
   },
   "outputs": [
    {
     "data": {
      "text/html": [
       "<div>\n",
       "<style scoped>\n",
       "    .dataframe tbody tr th:only-of-type {\n",
       "        vertical-align: middle;\n",
       "    }\n",
       "\n",
       "    .dataframe tbody tr th {\n",
       "        vertical-align: top;\n",
       "    }\n",
       "\n",
       "    .dataframe thead th {\n",
       "        text-align: right;\n",
       "    }\n",
       "</style>\n",
       "<table border=\"1\" class=\"dataframe\">\n",
       "  <thead>\n",
       "    <tr style=\"text-align: right;\">\n",
       "      <th></th>\n",
       "      <th>first</th>\n",
       "      <th>last</th>\n",
       "      <th>email</th>\n",
       "    </tr>\n",
       "  </thead>\n",
       "  <tbody>\n",
       "    <tr>\n",
       "      <th>0</th>\n",
       "      <td>Gordon</td>\n",
       "      <td>Freeman</td>\n",
       "      <td>GORDONFREEMAN@VALVE.COM</td>\n",
       "    </tr>\n",
       "    <tr>\n",
       "      <th>1</th>\n",
       "      <td>Morgan</td>\n",
       "      <td>Doe</td>\n",
       "      <td>MORGANDOE@EMAIL.COM</td>\n",
       "    </tr>\n",
       "    <tr>\n",
       "      <th>2</th>\n",
       "      <td>Naruto</td>\n",
       "      <td>Uzumaki</td>\n",
       "      <td>NARUTOUZUMAKI@CARLSEN.COM</td>\n",
       "    </tr>\n",
       "  </tbody>\n",
       "</table>\n",
       "</div>"
      ],
      "text/plain": [
       "    first     last                      email\n",
       "0  Gordon  Freeman    GORDONFREEMAN@VALVE.COM\n",
       "1  Morgan      Doe        MORGANDOE@EMAIL.COM\n",
       "2  Naruto  Uzumaki  NARUTOUZUMAKI@CARLSEN.COM"
      ]
     },
     "execution_count": 18,
     "metadata": {},
     "output_type": "execute_result"
    }
   ],
   "source": [
    "people_df['email'] = people_df['email'].apply(update_email)\n",
    "people_df"
   ]
  },
  {
   "cell_type": "markdown",
   "id": "7efa8e21",
   "metadata": {},
   "source": [
    "Wir können auch Lambda-Funktionen benutzen:"
   ]
  },
  {
   "cell_type": "code",
   "execution_count": 19,
   "id": "4082ab74",
   "metadata": {},
   "outputs": [
    {
     "data": {
      "text/html": [
       "<div>\n",
       "<style scoped>\n",
       "    .dataframe tbody tr th:only-of-type {\n",
       "        vertical-align: middle;\n",
       "    }\n",
       "\n",
       "    .dataframe tbody tr th {\n",
       "        vertical-align: top;\n",
       "    }\n",
       "\n",
       "    .dataframe thead th {\n",
       "        text-align: right;\n",
       "    }\n",
       "</style>\n",
       "<table border=\"1\" class=\"dataframe\">\n",
       "  <thead>\n",
       "    <tr style=\"text-align: right;\">\n",
       "      <th></th>\n",
       "      <th>first</th>\n",
       "      <th>last</th>\n",
       "      <th>email</th>\n",
       "    </tr>\n",
       "  </thead>\n",
       "  <tbody>\n",
       "    <tr>\n",
       "      <th>0</th>\n",
       "      <td>Gordon</td>\n",
       "      <td>Freeman</td>\n",
       "      <td>gordonfreeman@valve.com</td>\n",
       "    </tr>\n",
       "    <tr>\n",
       "      <th>1</th>\n",
       "      <td>Morgan</td>\n",
       "      <td>Doe</td>\n",
       "      <td>morgandoe@email.com</td>\n",
       "    </tr>\n",
       "    <tr>\n",
       "      <th>2</th>\n",
       "      <td>Naruto</td>\n",
       "      <td>Uzumaki</td>\n",
       "      <td>narutouzumaki@carlsen.com</td>\n",
       "    </tr>\n",
       "  </tbody>\n",
       "</table>\n",
       "</div>"
      ],
      "text/plain": [
       "    first     last                      email\n",
       "0  Gordon  Freeman    gordonfreeman@valve.com\n",
       "1  Morgan      Doe        morgandoe@email.com\n",
       "2  Naruto  Uzumaki  narutouzumaki@carlsen.com"
      ]
     },
     "execution_count": 19,
     "metadata": {},
     "output_type": "execute_result"
    }
   ],
   "source": [
    "people_df['email'] = people_df['email'].apply(lambda x: x.lower())\n",
    "people_df"
   ]
  },
  {
   "cell_type": "markdown",
   "id": "bc5eea7c",
   "metadata": {},
   "source": [
    "### <span style=\"color:#4472C4\">apply auf Dataframes</span>\n",
    "Wenn wir die ```apply```-Methode auf ein Dataframe anwenden, wird diese Funktion auf jede Zeile und Spalte angewendet. Im folgenden Beispiel wird die ```len```-Funktion nicht für jeden Wert des Dataframes aufgerufen, sondern für jede Series bzw. Spalte. Wir sehen also die Anzahl der Zeilen in jeder Spalte."
   ]
  },
  {
   "cell_type": "code",
   "execution_count": 20,
   "id": "478fe98b",
   "metadata": {},
   "outputs": [
    {
     "data": {
      "text/plain": [
       "first    3\n",
       "last     3\n",
       "email    3\n",
       "dtype: int64"
      ]
     },
     "execution_count": 20,
     "metadata": {},
     "output_type": "execute_result"
    }
   ],
   "source": [
    "people_df.apply(len)"
   ]
  },
  {
   "cell_type": "markdown",
   "id": "d1ace7ca",
   "metadata": {},
   "source": [
    "Es wird also folgendes für jede Spalte aufgerufen:"
   ]
  },
  {
   "cell_type": "code",
   "execution_count": 21,
   "id": "51859e69",
   "metadata": {
    "scrolled": true
   },
   "outputs": [
    {
     "data": {
      "text/plain": [
       "3"
      ]
     },
     "execution_count": 21,
     "metadata": {},
     "output_type": "execute_result"
    }
   ],
   "source": [
    "len(people_df['email'])"
   ]
  },
  {
   "cell_type": "code",
   "execution_count": 22,
   "id": "795e57e9",
   "metadata": {
    "scrolled": true
   },
   "outputs": [
    {
     "data": {
      "text/plain": [
       "first                     Gordon\n",
       "last                         Doe\n",
       "email    gordonfreeman@valve.com\n",
       "dtype: object"
      ]
     },
     "execution_count": 22,
     "metadata": {},
     "output_type": "execute_result"
    }
   ],
   "source": [
    "people_df.apply(pd.Series.min) # alphabetisch gesehen erste Zeile finden"
   ]
  },
  {
   "cell_type": "code",
   "execution_count": 23,
   "id": "2188a8c9",
   "metadata": {},
   "outputs": [
    {
     "data": {
      "text/plain": [
       "first                     Gordon\n",
       "last                         Doe\n",
       "email    gordonfreeman@valve.com\n",
       "dtype: object"
      ]
     },
     "execution_count": 23,
     "metadata": {},
     "output_type": "execute_result"
    }
   ],
   "source": [
    "people_df.apply(lambda x: x.min())"
   ]
  },
  {
   "cell_type": "markdown",
   "id": "a5f97d2e",
   "metadata": {},
   "source": [
    "## <span style=\"color:#7030A0\">applymap</span>\n",
    "Die ```len```-Methode wird auf jeden einzelnen Wert des Dataframes angewendet."
   ]
  },
  {
   "cell_type": "code",
   "execution_count": 24,
   "id": "b1831c90",
   "metadata": {},
   "outputs": [
    {
     "data": {
      "text/html": [
       "<div>\n",
       "<style scoped>\n",
       "    .dataframe tbody tr th:only-of-type {\n",
       "        vertical-align: middle;\n",
       "    }\n",
       "\n",
       "    .dataframe tbody tr th {\n",
       "        vertical-align: top;\n",
       "    }\n",
       "\n",
       "    .dataframe thead th {\n",
       "        text-align: right;\n",
       "    }\n",
       "</style>\n",
       "<table border=\"1\" class=\"dataframe\">\n",
       "  <thead>\n",
       "    <tr style=\"text-align: right;\">\n",
       "      <th></th>\n",
       "      <th>first</th>\n",
       "      <th>last</th>\n",
       "      <th>email</th>\n",
       "    </tr>\n",
       "  </thead>\n",
       "  <tbody>\n",
       "    <tr>\n",
       "      <th>0</th>\n",
       "      <td>6</td>\n",
       "      <td>7</td>\n",
       "      <td>23</td>\n",
       "    </tr>\n",
       "    <tr>\n",
       "      <th>1</th>\n",
       "      <td>6</td>\n",
       "      <td>3</td>\n",
       "      <td>19</td>\n",
       "    </tr>\n",
       "    <tr>\n",
       "      <th>2</th>\n",
       "      <td>6</td>\n",
       "      <td>7</td>\n",
       "      <td>25</td>\n",
       "    </tr>\n",
       "  </tbody>\n",
       "</table>\n",
       "</div>"
      ],
      "text/plain": [
       "   first  last  email\n",
       "0      6     7     23\n",
       "1      6     3     19\n",
       "2      6     7     25"
      ]
     },
     "execution_count": 24,
     "metadata": {},
     "output_type": "execute_result"
    }
   ],
   "source": [
    "people_df.applymap(len)"
   ]
  },
  {
   "cell_type": "code",
   "execution_count": 25,
   "id": "1e63ad1b",
   "metadata": {},
   "outputs": [
    {
     "data": {
      "text/html": [
       "<div>\n",
       "<style scoped>\n",
       "    .dataframe tbody tr th:only-of-type {\n",
       "        vertical-align: middle;\n",
       "    }\n",
       "\n",
       "    .dataframe tbody tr th {\n",
       "        vertical-align: top;\n",
       "    }\n",
       "\n",
       "    .dataframe thead th {\n",
       "        text-align: right;\n",
       "    }\n",
       "</style>\n",
       "<table border=\"1\" class=\"dataframe\">\n",
       "  <thead>\n",
       "    <tr style=\"text-align: right;\">\n",
       "      <th></th>\n",
       "      <th>first</th>\n",
       "      <th>last</th>\n",
       "      <th>email</th>\n",
       "    </tr>\n",
       "  </thead>\n",
       "  <tbody>\n",
       "    <tr>\n",
       "      <th>0</th>\n",
       "      <td>gordon</td>\n",
       "      <td>freeman</td>\n",
       "      <td>gordonfreeman@valve.com</td>\n",
       "    </tr>\n",
       "    <tr>\n",
       "      <th>1</th>\n",
       "      <td>morgan</td>\n",
       "      <td>doe</td>\n",
       "      <td>morgandoe@email.com</td>\n",
       "    </tr>\n",
       "    <tr>\n",
       "      <th>2</th>\n",
       "      <td>naruto</td>\n",
       "      <td>uzumaki</td>\n",
       "      <td>narutouzumaki@carlsen.com</td>\n",
       "    </tr>\n",
       "  </tbody>\n",
       "</table>\n",
       "</div>"
      ],
      "text/plain": [
       "    first     last                      email\n",
       "0  gordon  freeman    gordonfreeman@valve.com\n",
       "1  morgan      doe        morgandoe@email.com\n",
       "2  naruto  uzumaki  narutouzumaki@carlsen.com"
      ]
     },
     "execution_count": 25,
     "metadata": {},
     "output_type": "execute_result"
    }
   ],
   "source": [
    "people_df.applymap(str.lower)"
   ]
  },
  {
   "cell_type": "markdown",
   "id": "341008d0",
   "metadata": {},
   "source": [
    "## <span style=\"color:#7030A0\">map</span>\n",
    "Die ```map```-Methode funktioniert nur auf Series. Sie wird genutzt, um jeden Wert in einer Series durch einen anderen zu ersetzen. Die Werte, die nicht geändert werden, werden zu \"Not-A-Number\"-Werte konvertiert."
   ]
  },
  {
   "cell_type": "code",
   "execution_count": 26,
   "id": "aab3ef52",
   "metadata": {},
   "outputs": [
    {
     "data": {
      "text/plain": [
       "0       NaN\n",
       "1     Chris\n",
       "2    Nagato\n",
       "Name: first, dtype: object"
      ]
     },
     "execution_count": 26,
     "metadata": {},
     "output_type": "execute_result"
    }
   ],
   "source": [
    "people_df['first'].map({'Morgan': 'Chris', 'Naruto': 'Nagato'})"
   ]
  },
  {
   "cell_type": "code",
   "execution_count": 27,
   "id": "a40a262c",
   "metadata": {},
   "outputs": [
    {
     "data": {
      "text/html": [
       "<div>\n",
       "<style scoped>\n",
       "    .dataframe tbody tr th:only-of-type {\n",
       "        vertical-align: middle;\n",
       "    }\n",
       "\n",
       "    .dataframe tbody tr th {\n",
       "        vertical-align: top;\n",
       "    }\n",
       "\n",
       "    .dataframe thead th {\n",
       "        text-align: right;\n",
       "    }\n",
       "</style>\n",
       "<table border=\"1\" class=\"dataframe\">\n",
       "  <thead>\n",
       "    <tr style=\"text-align: right;\">\n",
       "      <th></th>\n",
       "      <th>first</th>\n",
       "      <th>last</th>\n",
       "      <th>email</th>\n",
       "    </tr>\n",
       "  </thead>\n",
       "  <tbody>\n",
       "    <tr>\n",
       "      <th>0</th>\n",
       "      <td>Gordon</td>\n",
       "      <td>Freeman</td>\n",
       "      <td>gordonfreeman@valve.com</td>\n",
       "    </tr>\n",
       "    <tr>\n",
       "      <th>1</th>\n",
       "      <td>Chris</td>\n",
       "      <td>Doe</td>\n",
       "      <td>morgandoe@email.com</td>\n",
       "    </tr>\n",
       "    <tr>\n",
       "      <th>2</th>\n",
       "      <td>Nagato</td>\n",
       "      <td>Uzumaki</td>\n",
       "      <td>narutouzumaki@carlsen.com</td>\n",
       "    </tr>\n",
       "  </tbody>\n",
       "</table>\n",
       "</div>"
      ],
      "text/plain": [
       "    first     last                      email\n",
       "0  Gordon  Freeman    gordonfreeman@valve.com\n",
       "1   Chris      Doe        morgandoe@email.com\n",
       "2  Nagato  Uzumaki  narutouzumaki@carlsen.com"
      ]
     },
     "execution_count": 27,
     "metadata": {},
     "output_type": "execute_result"
    }
   ],
   "source": [
    "people_df['first'] = people_df['first'].replace({'Morgan': 'Chris', 'Naruto': 'Nagato'})\n",
    "people_df"
   ]
  },
  {
   "cell_type": "markdown",
   "id": "2c447809",
   "metadata": {},
   "source": [
    "## <span style=\"color:#7030A0\">Anwendungsbeispiele</span>"
   ]
  },
  {
   "cell_type": "code",
   "execution_count": 28,
   "id": "236d8961",
   "metadata": {},
   "outputs": [
    {
     "data": {
      "text/plain": [
       "Respondent\n",
       "1            NaN\n",
       "2            NaN\n",
       "3         8820.0\n",
       "4        61000.0\n",
       "5            NaN\n",
       "          ...   \n",
       "88377        NaN\n",
       "88601        NaN\n",
       "88802        NaN\n",
       "88816        NaN\n",
       "88863        NaN\n",
       "Name: SalaryUSD, Length: 88883, dtype: float64"
      ]
     },
     "execution_count": 28,
     "metadata": {},
     "output_type": "execute_result"
    }
   ],
   "source": [
    "survey_df.rename(columns={'ConvertedComp': 'SalaryUSD'}, inplace=True)\n",
    "survey_df['SalaryUSD']"
   ]
  },
  {
   "cell_type": "code",
   "execution_count": 29,
   "id": "e55de0f2",
   "metadata": {
    "scrolled": true
   },
   "outputs": [
    {
     "data": {
      "text/plain": [
       "Respondent\n",
       "1        Yes\n",
       "2         No\n",
       "3        Yes\n",
       "4         No\n",
       "5        Yes\n",
       "        ... \n",
       "88377    Yes\n",
       "88601     No\n",
       "88802     No\n",
       "88816     No\n",
       "88863    Yes\n",
       "Name: Hobbyist, Length: 88883, dtype: object"
      ]
     },
     "execution_count": 29,
     "metadata": {},
     "output_type": "execute_result"
    }
   ],
   "source": [
    "survey_df['Hobbyist']"
   ]
  },
  {
   "cell_type": "code",
   "execution_count": 30,
   "id": "2bcfa881",
   "metadata": {
    "scrolled": false
   },
   "outputs": [
    {
     "data": {
      "text/plain": [
       "Respondent\n",
       "1         True\n",
       "2        False\n",
       "3         True\n",
       "4        False\n",
       "5         True\n",
       "         ...  \n",
       "88377     True\n",
       "88601    False\n",
       "88802    False\n",
       "88816    False\n",
       "88863     True\n",
       "Name: Hobbyist, Length: 88883, dtype: bool"
      ]
     },
     "execution_count": 30,
     "metadata": {},
     "output_type": "execute_result"
    }
   ],
   "source": [
    "survey_df['Hobbyist'].map({'Yes': True, 'No': False})"
   ]
  },
  {
   "cell_type": "code",
   "execution_count": 31,
   "id": "37b330cc",
   "metadata": {},
   "outputs": [],
   "source": [
    "survey_df['Hobbyist'] = survey_df['Hobbyist'].map({'Yes': True, 'No': False}) # Änderung permanent machen"
   ]
  }
 ],
 "metadata": {
  "kernelspec": {
   "display_name": "Python 3 (ipykernel)",
   "language": "python",
   "name": "python3"
  },
  "language_info": {
   "codemirror_mode": {
    "name": "ipython",
    "version": 3
   },
   "file_extension": ".py",
   "mimetype": "text/x-python",
   "name": "python",
   "nbconvert_exporter": "python",
   "pygments_lexer": "ipython3",
   "version": "3.8.10"
  }
 },
 "nbformat": 4,
 "nbformat_minor": 5
}
